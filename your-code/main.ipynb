{
 "cells": [
  {
   "cell_type": "markdown",
   "metadata": {},
   "source": [
    "Challenge 1"
   ]
  },
  {
   "cell_type": "code",
   "execution_count": 98,
   "metadata": {},
   "outputs": [],
   "source": [
    "import json\n",
    "import pandas as pd\n",
    "import requests\n",
    "import numpy as np\n",
    "from pandas.io.json import json_normalize"
   ]
  },
  {
   "cell_type": "code",
   "execution_count": 49,
   "metadata": {},
   "outputs": [
    {
     "data": {
      "text/plain": [
       "0                 None\n",
       "1                 None\n",
       "2     Jupyter Notebook\n",
       "3     Jupyter Notebook\n",
       "4     Jupyter Notebook\n",
       "5     Jupyter Notebook\n",
       "6     Jupyter Notebook\n",
       "7     Jupyter Notebook\n",
       "8     Jupyter Notebook\n",
       "9     Jupyter Notebook\n",
       "10    Jupyter Notebook\n",
       "11    Jupyter Notebook\n",
       "Name: language, dtype: object"
      ]
     },
     "execution_count": 49,
     "metadata": {},
     "output_type": "execute_result"
    }
   ],
   "source": [
    "df = pd.read_json('output.json')\n",
    "df.columns\n",
    "\n",
    "df['language']"
   ]
  },
  {
   "cell_type": "code",
   "execution_count": 50,
   "metadata": {},
   "outputs": [
    {
     "data": {
      "text/plain": [
       "array({None, 'Jupyter Notebook'}, dtype=object)"
      ]
     },
     "execution_count": 50,
     "metadata": {},
     "output_type": "execute_result"
    }
   ],
   "source": [
    "np.array(set([l for l in df['language']]))"
   ]
  },
  {
   "cell_type": "code",
   "execution_count": 119,
   "metadata": {},
   "outputs": [
    {
     "data": {
      "text/plain": [
       "Index(['sha', 'node_id', 'commit', 'url', 'html_url', 'comments_url', 'author',\n",
       "       'committer', 'parents'],\n",
       "      dtype='object')"
      ]
     },
     "execution_count": 119,
     "metadata": {},
     "output_type": "execute_result"
    }
   ],
   "source": [
    "df = pd.read_json('commits.json')\n",
    "df.columns"
   ]
  },
  {
   "cell_type": "code",
   "execution_count": 131,
   "metadata": {},
   "outputs": [
    {
     "data": {
      "text/html": [
       "<div>\n",
       "<style scoped>\n",
       "    .dataframe tbody tr th:only-of-type {\n",
       "        vertical-align: middle;\n",
       "    }\n",
       "\n",
       "    .dataframe tbody tr th {\n",
       "        vertical-align: top;\n",
       "    }\n",
       "\n",
       "    .dataframe thead th {\n",
       "        text-align: right;\n",
       "    }\n",
       "</style>\n",
       "<table border=\"1\" class=\"dataframe\">\n",
       "  <thead>\n",
       "    <tr style=\"text-align: right;\">\n",
       "      <th></th>\n",
       "      <th>message</th>\n",
       "      <th>url</th>\n",
       "      <th>comment_count</th>\n",
       "      <th>author.name</th>\n",
       "      <th>author.email</th>\n",
       "      <th>author.date</th>\n",
       "      <th>committer.name</th>\n",
       "      <th>committer.email</th>\n",
       "      <th>committer.date</th>\n",
       "      <th>tree.sha</th>\n",
       "      <th>tree.url</th>\n",
       "      <th>verification.verified</th>\n",
       "      <th>verification.reason</th>\n",
       "      <th>verification.signature</th>\n",
       "      <th>verification.payload</th>\n",
       "    </tr>\n",
       "  </thead>\n",
       "  <tbody>\n",
       "  </tbody>\n",
       "</table>\n",
       "</div>"
      ],
      "text/plain": [
       "Empty DataFrame\n",
       "Columns: [message, url, comment_count, author.name, author.email, author.date, committer.name, committer.email, committer.date, tree.sha, tree.url, verification.verified, verification.reason, verification.signature, verification.payload]\n",
       "Index: []"
      ]
     },
     "execution_count": 131,
     "metadata": {},
     "output_type": "execute_result"
    }
   ],
   "source": [
    "#with open ('commits.json', \"r\") as file:\n",
    "#    print(file.read)\n",
    "#    response = requests.\n",
    "###commit_url_column\n",
    "#df['commits_url']\n",
    "#df['updated_at']\n",
    "#df['updated_at'] = pd.to_datetime(df['updated_at'])\n",
    "#df[df['updated_at'] > '2020-01-20'].count\n",
    "\n",
    "\n",
    "norm_json = json_normalize(df['commit'])\n",
    "#    ds_normalized = pd.DataFrame(norm_json)\n",
    "#ds_normalized\n",
    "#df.columns\n",
    "#ds_normalized.columns\n",
    "#df.head(10)\n",
    "#df['commit'][0]\n",
    "\n",
    "norm_json\n",
    "norm_json['author.date'] = pd.to_datetime(norm_json['author.date'])\n",
    "norm_json[norm_json['author.date'] > '2020-01-20']\n"
   ]
  }
 ],
 "metadata": {
  "kernelspec": {
   "display_name": "Python 3",
   "language": "python",
   "name": "python3"
  },
  "language_info": {
   "codemirror_mode": {
    "name": "ipython",
    "version": 3
   },
   "file_extension": ".py",
   "mimetype": "text/x-python",
   "name": "python",
   "nbconvert_exporter": "python",
   "pygments_lexer": "ipython3",
   "version": "3.8.1"
  }
 },
 "nbformat": 4,
 "nbformat_minor": 4
}
